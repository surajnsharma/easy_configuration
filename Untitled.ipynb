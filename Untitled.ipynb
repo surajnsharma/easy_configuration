{
 "cells": [
  {
   "cell_type": "code",
   "execution_count": 8,
   "id": "011cd076-29f0-4514-a986-0579e57e6b55",
   "metadata": {},
   "outputs": [
    {
     "name": "stdout",
     "output_type": "stream",
     "text": [
      "Running command for Interfaces Terse\n",
      "RPC for Interfaces Terse returned no XML. Using CLI.\n",
      "Parsed Result for Interfaces Terse: {'interfaces_up': 382}\n"
     ]
    }
   ],
   "source": [
    "from jnpr.junos import Device\n",
    "from lxml import etree\n",
    "import paramiko\n",
    "from jnpr.junos.exception import ConnectError\n",
    "\n",
    "# Open a connection to the device\n",
    "dev = Device(host=\"svla-q5240-06.englab.juniper.net\", user=\"root\", passwd=\"Embe1mpls\", port=22)\n",
    "dev.open()\n",
    "\n",
    "def parse_interfaces_terse(output):\n",
    "    \"\"\"\n",
    "    Parse the Interfaces Terse output to count the number of interfaces with both Admin and Link status as 'up'.\n",
    "    \"\"\"\n",
    "    interfaces_up = 0\n",
    "    try:\n",
    "        if isinstance(output, etree._Element):  # XML Output\n",
    "            interfaces_up = len(\n",
    "                output.xpath(\".//physical-interface/logical-interface/address-family/oper-status[text()='up']\")\n",
    "            )\n",
    "        else:  # Text Output\n",
    "            for line in output.splitlines():\n",
    "                columns = line.split()\n",
    "                # Ensure the line contains enough columns and parse the 'Admin' and 'Link' status\n",
    "                if len(columns) >= 3 and ':' in columns[0]:\n",
    "                    admin_status = columns[1].strip().lower()\n",
    "                    link_status = columns[2].strip().lower()\n",
    "                    if admin_status == \"up\" and link_status == \"up\":\n",
    "                        interfaces_up += 1\n",
    "    except Exception as e:\n",
    "        print(f\"Error parsing Interfaces Terse: {e}\")\n",
    "    return {\"interfaces_up\": interfaces_up}\n",
    "\n",
    "commands = [\n",
    "    {\n",
    "        \"description\": \"Interfaces Terse\",\n",
    "        \"rpc\": lambda: dev.rpc.get_interface_information(terse=True),\n",
    "        \"cli\": \"show interfaces terse\",\n",
    "        \"parser\": parse_interfaces_terse,\n",
    "    },\n",
    "]\n",
    "\n",
    "# Execute the command and use the parser\n",
    "for command in commands:\n",
    "    description = command[\"description\"]\n",
    "    rpc_method = command[\"rpc\"]\n",
    "    cli_command = command[\"cli\"]\n",
    "    parser = command[\"parser\"]\n",
    "\n",
    "    try:\n",
    "        # Attempt to get the RPC output\n",
    "        print(f\"Running command for {description}\")\n",
    "        result = rpc_method()\n",
    "        output = None\n",
    "\n",
    "        # Check if the result is XML\n",
    "        if hasattr(result, \"xml\") and result.xml is not None:\n",
    "            output = result\n",
    "        else:\n",
    "            # Fallback to CLI if no XML is available\n",
    "            print(f\"RPC for {description} returned no XML. Using CLI.\")\n",
    "            output = dev.cli(cli_command, warning=False)\n",
    "\n",
    "        # Parse the result\n",
    "        parsed_result = parser(result if hasattr(result, \"xml\") else output)\n",
    "        print(f\"Parsed Result for {description}: {parsed_result}\")\n",
    "\n",
    "    except Exception as e:\n",
    "        print(f\"Error executing command for {description}: {e}\")\n"
   ]
  },
  {
   "cell_type": "code",
   "execution_count": null,
   "id": "9434ec45-38a4-45bf-a5c8-a297bdd22841",
   "metadata": {},
   "outputs": [],
   "source": []
  }
 ],
 "metadata": {
  "kernelspec": {
   "display_name": "Python 3 (ipykernel)",
   "language": "python",
   "name": "python3"
  },
  "language_info": {
   "codemirror_mode": {
    "name": "ipython",
    "version": 3
   },
   "file_extension": ".py",
   "mimetype": "text/x-python",
   "name": "python",
   "nbconvert_exporter": "python",
   "pygments_lexer": "ipython3",
   "version": "3.9.6"
  }
 },
 "nbformat": 4,
 "nbformat_minor": 5
}
