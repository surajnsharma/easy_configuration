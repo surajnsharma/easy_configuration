{
 "cells": [
  {
   "cell_type": "code",
   "execution_count": 44,
   "id": "6f3e4021-099d-48c4-816d-7ec370acdc76",
   "metadata": {},
   "outputs": [
    {
     "name": "stdout",
     "output_type": "stream",
     "text": [
      "{'ny-q5240-13.englab.juniper.net': [('ny-q5240-q07.englab.juniper.net', 'et-0/0/59:0', 'et-0/0/63:0'), ('ny-q5240-q07.englab.juniper.net', 'et-0/0/59:1', 'et-0/0/63:1')]}\n"
     ]
    }
   ],
   "source": [
    "from jnpr.junos import Device\n",
    "from lxml import etree\n",
    "import paramiko\n",
    "from jnpr.junos.exception import ConnectError\n",
    "\n",
    "# Open a connection to the device\n",
    "dev = Device(host=\"ny-q5240-13.englab.juniper.net\", user=\"root\", passwd=\"Embe1mpls\", port=22)\n",
    "dev.open()\n",
    "\n",
    "def get_lldp_neighbors(dev, device_list):\n",
    "    \"\"\"\n",
    "    Fetches the LLDP neighbors for the given device and filters based on the remote system name in device_list.\n",
    "    \"\"\"\n",
    "    neighbors_dict = {}\n",
    "    \n",
    "    # Simplify device names in device_list by removing domain suffix\n",
    "    simplified_device_list = [device.split('.')[0] if '.' in device else device for device in device_list]\n",
    "    \n",
    "    try:\n",
    "        # Fetch LLDP neighbors information\n",
    "        neighbors = dev.rpc.get_lldp_neighbors_information()\n",
    "        \n",
    "        # Print the XML output for debugging\n",
    "        #print(etree.tostring(neighbors, pretty_print=True).decode('utf-8'))\n",
    "        \n",
    "        # Parse the XML to populate the neighbors dictionary\n",
    "        for neighbor in neighbors.findall('.//lldp-neighbor-information'):\n",
    "            interface_element = neighbor.find('lldp-local-port-id')\n",
    "            remote_system_element = neighbor.find('lldp-remote-system-name')\n",
    "            remote_port_desc_element = neighbor.find('lldp-remote-port-description')\n",
    "            remote_port_id_element = neighbor.find('lldp-remote-port-id')\n",
    "\n",
    "            # Extract values and handle missing elements\n",
    "            interface = interface_element.text.strip() if interface_element is not None else 'Unknown'\n",
    "            remote_system_name = remote_system_element.text.strip() if remote_system_element is not None else 'Unknown'\n",
    "            remote_port_desc = remote_port_desc_element.text.strip() if remote_port_desc_element is not None else None\n",
    "            remote_port_id = remote_port_id_element.text.strip() if remote_port_id_element is not None else None\n",
    "\n",
    "            # Simplify the remote system name by removing domain suffix\n",
    "            simplified_remote_system_name = remote_system_name.split('.')[0] if '.' in remote_system_name else remote_system_name\n",
    "\n",
    "            # Ensure valid port description\n",
    "            sanitized_port_desc = remote_port_desc or remote_port_id or 'Unknown'\n",
    "\n",
    "            # Only add the neighbor to neighbors_dict if the remote system is in the device_list\n",
    "            if simplified_remote_system_name in simplified_device_list:\n",
    "                if dev.hostname not in neighbors_dict:\n",
    "                    neighbors_dict[dev.hostname] = []\n",
    "                \n",
    "                neighbors_dict[dev.hostname].append((remote_system_name, interface, sanitized_port_desc))\n",
    "        \n",
    "    except Exception as e:\n",
    "        print(f\"Failed to fetch LLDP neighbors: {e}\")\n",
    "        raise\n",
    "    print(neighbors_dict)\n",
    "    return neighbors_dict\n",
    "\n",
    "# Call the function to fetch and print LLDP neighbors\n",
    "device_list = ['ny-q5240-13', 'ny-q5240-q07']\n",
    "lldp_neighbors = get_lldp_neighbors(dev,device_list)\n",
    "\n",
    "\n",
    "\n"
   ]
  },
  {
   "cell_type": "code",
   "execution_count": 55,
   "id": "52b0f0a9-f857-4e3e-81b6-ac1fb5340dc2",
   "metadata": {},
   "outputs": [
    {
     "name": "stdout",
     "output_type": "stream",
     "text": [
      "device1,interface1,device2,interface2\n",
      "ny-q5240-13,et-0/0/59:0,ny-q5240-q07,et-0/0/63:0\n",
      "ny-q5240-13,et-0/0/59:1,ny-q5240-q07,et-0/0/63:1\n",
      "\n"
     ]
    }
   ],
   "source": [
    "import re\n",
    "csv_content = \"device1,interface1,device2,interface2\\n\"\n",
    "unique_connections= [{'ny-q5240-13': 'et-0/0/59:0', 'ny-q5240-q07': 'et-0/0/63:0'}, {'ny-q5240-13': 'et-0/0/59:1', 'ny-q5240-q07': 'et-0/0/63:1'}]\n",
    "skip_interfaces = {'re0:mgmt-0', 'em0', 'fxp0'}\n",
    "skip_device_patterns = ['mgmt', 'management', 'hypercloud']\n",
    "interface_pattern = r\"^(et|ge|xe|em|re|fxp)\\-[0-9]+\\/[0-9]+\\/[0-9]+(:[0-9]+)?$\"\n",
    "for connection in unique_connections:\n",
    "    # Get the device and interface keys dynamically\n",
    "    keys = list(connection.keys())\n",
    "    # Ensure the connection has at least two devices\n",
    "    if len(keys) < 2:\n",
    "        print(f\"Skipping connection with only one device: {connection}\")\n",
    "        continue\n",
    "\n",
    "    device1 = keys[0]\n",
    "    device2 = keys[1]\n",
    "    interface1 = connection[device1]\n",
    "    interface2 = connection[device2]\n",
    "\n",
    "    # Skip connections with interfaces in skip_interfaces\n",
    "    if interface1 in skip_interfaces or interface2 in skip_interfaces:\n",
    "        print(\n",
    "            f\"Skipping connection with ignored interfaces: {device1} ({interface1}), {device2} ({interface2})\")\n",
    "        continue\n",
    "\n",
    "    # Skip connections if devices match skip_device_patterns\n",
    "    if any(pattern in device1.lower() for pattern in skip_device_patterns) or \\\n",
    "            any(pattern in device2.lower() for pattern in skip_device_patterns):\n",
    "        print(f\"Skipping connection with ignored device patterns: {device1}, {device2}\")\n",
    "        continue\n",
    "    # Validate interfaces using the regex pattern\n",
    "    if not re.match(interface_pattern, interface1) or not re.match(interface_pattern, interface2):\n",
    "        print(\n",
    "            f\"Skipping connection due to invalid interface format: {device1} ({interface1}), {device2} ({interface2})\")\n",
    "        continue\n",
    "    csv_content += f\"{device1},{interface1},{device2},{interface2}\\n\"\n",
    "\n",
    "print(csv_content)\n"
   ]
  },
  {
   "cell_type": "code",
   "execution_count": 56,
   "id": "cad1bd92-2000-4487-866b-5d8bb1e87d64",
   "metadata": {},
   "outputs": [
    {
     "name": "stdout",
     "output_type": "stream",
     "text": [
      "desc1 2 ny-q5240-q07 \n",
      "desc2 3 ny-q5240-q07 \n"
     ]
    }
   ],
   "source": [
    "from app import create_app, db\n",
    "app = create_app('development') \n",
    "app.app_context().push()\n",
    "from app.models import TriggerEvent\n",
    "events = TriggerEvent.query.all()\n",
    "for event in events:\n",
    "    print(event.description, event.iteration, event.device_name, event.command)\n",
    " "
   ]
  },
  {
   "cell_type": "code",
   "execution_count": null,
   "id": "a5034c04-66f7-47f5-97c6-96939fa30b16",
   "metadata": {},
   "outputs": [],
   "source": []
  }
 ],
 "metadata": {
  "kernelspec": {
   "display_name": "Python 3 (ipykernel)",
   "language": "python",
   "name": "python3"
  },
  "language_info": {
   "codemirror_mode": {
    "name": "ipython",
    "version": 3
   },
   "file_extension": ".py",
   "mimetype": "text/x-python",
   "name": "python",
   "nbconvert_exporter": "python",
   "pygments_lexer": "ipython3",
   "version": "3.9.6"
  }
 },
 "nbformat": 4,
 "nbformat_minor": 5
}
