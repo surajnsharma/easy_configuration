{
 "cells": [
  {
   "cell_type": "code",
   "execution_count": 4,
   "id": "c22741b0-c139-402e-9fe6-381b3d15756e",
   "metadata": {},
   "outputs": [
    {
     "name": "stderr",
     "output_type": "stream",
     "text": [
      "INFO:ncclient.transport.ssh:Connected (version 2.0, client OpenSSH_7.5)\n",
      "INFO:ncclient.transport.ssh:Authentication (publickey) failed.\n",
      "INFO:ncclient.transport.ssh:Authentication (password) successful!\n",
      "INFO:ncclient.transport.ssh:[host 100.64.1.229 session 0x106cab1f0] Sending:\n",
      "b'<?xml version=\"1.0\" encoding=\"UTF-8\"?><nc:hello xmlns:nc=\"urn:ietf:params:xml:ns:netconf:base:1.0\"><nc:capabilities><nc:capability>urn:ietf:params:netconf:base:1.0</nc:capability><nc:capability>urn:ietf:params:netconf:base:1.1</nc:capability><nc:capability>urn:ietf:params:netconf:capability:writable-running:1.0</nc:capability><nc:capability>urn:ietf:params:netconf:capability:candidate:1.0</nc:capability><nc:capability>urn:ietf:params:netconf:capability:confirmed-commit:1.0</nc:capability><nc:capability>urn:ietf:params:netconf:capability:rollback-on-error:1.0</nc:capability><nc:capability>urn:ietf:params:netconf:capability:startup:1.0</nc:capability><nc:capability>urn:ietf:params:netconf:capability:url:1.0?scheme=http,ftp,file,https,sftp</nc:capability><nc:capability>urn:ietf:params:netconf:capability:validate:1.0</nc:capability><nc:capability>urn:ietf:params:netconf:capability:xpath:1.0</nc:capability><nc:capability>urn:ietf:params:netconf:capability:notification:1.0</nc:capability><nc:capability>urn:ietf:params:netconf:capability:interleave:1.0</nc:capability><nc:capability>urn:ietf:params:netconf:capability:with-defaults:1.0</nc:capability></nc:capabilities></nc:hello>]]>]]>'\n",
      "INFO:ncclient.transport.ssh:[host 100.64.1.229 session 0x106cab1f0] Received message from host\n",
      "INFO:ncclient.transport.ssh:[host 100.64.1.229 session-id 11896] initialized: session-id=11896 | server_capabilities=<dict_keyiterator object at 0x106d32e00>\n",
      "INFO:root:Connected to device: Device(100.64.1.229)\n",
      "INFO:ncclient.operations.rpc:[host 100.64.1.229 session-id 11896] Requesting 'CloseSession'\n",
      "INFO:ncclient.transport.ssh:[host 100.64.1.229 session-id 11896] Sending:\n",
      "b'<?xml version=\"1.0\" encoding=\"UTF-8\"?><nc:rpc xmlns:nc=\"urn:ietf:params:xml:ns:netconf:base:1.0\" message-id=\"urn:uuid:32940ea9-62a6-4992-a3e3-0f7d1ddbfb6e\"><nc:close-session/></nc:rpc>]]>]]>'\n",
      "INFO:ncclient.transport.ssh:[host 100.64.1.229 session-id 11896] Received message from host\n"
     ]
    }
   ],
   "source": [
    "from jnpr.junos import Device\n",
    "from jnpr.junos.transport.tty import Terminal\n",
    "import socket\n",
    "import logging\n",
    "\n",
    "logging.basicConfig(level=logging.INFO)\n",
    "\n",
    "# Force poll for macOS\n",
    "Terminal._tty_platform = \"poll\"\n",
    "\n",
    "host = \"svla-q5240-03.englab.juniper.net\"\n",
    "user = \"root\"\n",
    "password = \"Embe1mpls\"\n",
    "\n",
    "try:\n",
    "    resolved_ip = socket.gethostbyname(host)\n",
    "    dev = Device(host=resolved_ip, user=user, passwd=password, port=22)\n",
    "    dev.open()\n",
    "    logging.info(f\"Connected to device: {dev}\")\n",
    "    dev.close()\n",
    "except Exception as e:\n",
    "    logging.error(f\"Failed to connect: {e}\")\n"
   ]
  },
  {
   "cell_type": "code",
   "execution_count": null,
   "id": "92e7314f-27fe-41d8-8bc8-bf5395c27503",
   "metadata": {},
   "outputs": [],
   "source": []
  }
 ],
 "metadata": {
  "kernelspec": {
   "display_name": "Python 3 (ipykernel)",
   "language": "python",
   "name": "python3"
  },
  "language_info": {
   "codemirror_mode": {
    "name": "ipython",
    "version": 3
   },
   "file_extension": ".py",
   "mimetype": "text/x-python",
   "name": "python",
   "nbconvert_exporter": "python",
   "pygments_lexer": "ipython3",
   "version": "3.9.6"
  }
 },
 "nbformat": 4,
 "nbformat_minor": 5
}
