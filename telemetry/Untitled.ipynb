{
 "cells": [
  {
   "cell_type": "code",
   "execution_count": 1,
   "id": "65ebc2fd-f4de-4189-aa1e-804da637d124",
   "metadata": {},
   "outputs": [
    {
     "ename": "NameError",
     "evalue": "name 'null' is not defined",
     "output_type": "error",
     "traceback": [
      "\u001b[0;31m---------------------------------------------------------------------------\u001b[0m",
      "\u001b[0;31mNameError\u001b[0m                                 Traceback (most recent call last)",
      "Cell \u001b[0;32mIn[1], line 1\u001b[0m\n\u001b[0;32m----> 1\u001b[0m data\u001b[38;5;241m=\u001b[39m{\u001b[38;5;124m\"\u001b[39m\u001b[38;5;124mresults\u001b[39m\u001b[38;5;124m\"\u001b[39m:[{\u001b[38;5;124m\"\u001b[39m\u001b[38;5;124mstatement_id\u001b[39m\u001b[38;5;124m\"\u001b[39m:\u001b[38;5;241m0\u001b[39m,\u001b[38;5;124m\"\u001b[39m\u001b[38;5;124mseries\u001b[39m\u001b[38;5;124m\"\u001b[39m:[{\u001b[38;5;124m\"\u001b[39m\u001b[38;5;124mname\u001b[39m\u001b[38;5;124m\"\u001b[39m:\u001b[38;5;124m\"\u001b[39m\u001b[38;5;124msvla-q5240-08_network-instances_network-instance_protocols_protocol_bgp_neighbors\u001b[39m\u001b[38;5;124m\"\u001b[39m,\u001b[38;5;124m\"\u001b[39m\u001b[38;5;124mcolumns\u001b[39m\u001b[38;5;124m\"\u001b[39m:[\u001b[38;5;124m\"\u001b[39m\u001b[38;5;124mtime\u001b[39m\u001b[38;5;124m\"\u001b[39m,\u001b[38;5;124m\"\u001b[39m\u001b[38;5;124m/network-instances/network-instance/protocols/protocol/bgp/neighbors/neighbor/state/session-state\u001b[39m\u001b[38;5;124m\"\u001b[39m,\u001b[38;5;124m\"\u001b[39m\u001b[38;5;124m/network-instances/network-instance/protocols/protocol/bgp/neighbors/neighbor/state/neighbor-address\u001b[39m\u001b[38;5;124m\"\u001b[39m],\u001b[38;5;124m\"\u001b[39m\u001b[38;5;124mvalues\u001b[39m\u001b[38;5;124m\"\u001b[39m:[[\u001b[38;5;124m\"\u001b[39m\u001b[38;5;124m2024-09-01T04:05:58.601429316Z\u001b[39m\u001b[38;5;124m\"\u001b[39m,\u001b[38;5;124m\"\u001b[39m\u001b[38;5;124mESTABLISHED\u001b[39m\u001b[38;5;124m\"\u001b[39m,\u001b[38;5;124m\"\u001b[39m\u001b[38;5;124m11:1:64::ffff:2\u001b[39m\u001b[38;5;124m\"\u001b[39m],[\u001b[38;5;124m\"\u001b[39m\u001b[38;5;124m2024-09-01T04:05:58.59989783Z\u001b[39m\u001b[38;5;124m\"\u001b[39m,\u001b[43mnull\u001b[49m,\u001b[38;5;124m\"\u001b[39m\u001b[38;5;124m11:1:63::ffff:2\u001b[39m\u001b[38;5;124m\"\u001b[39m],[\u001b[38;5;124m\"\u001b[39m\u001b[38;5;124m2024-09-01T04:05:58.477036992Z\u001b[39m\u001b[38;5;124m\"\u001b[39m,\u001b[38;5;124m\"\u001b[39m\u001b[38;5;124mESTABLISHED\u001b[39m\u001b[38;5;124m\"\u001b[39m,\u001b[38;5;124m\"\u001b[39m\u001b[38;5;124m11:1:59::ffff:1\u001b[39m\u001b[38;5;124m\"\u001b[39m],[\u001b[38;5;124m\"\u001b[39m\u001b[38;5;124m2024-09-01T04:05:58.475600781Z\u001b[39m\u001b[38;5;124m\"\u001b[39m,\u001b[38;5;124m\"\u001b[39m\u001b[38;5;124mESTABLISHED\u001b[39m\u001b[38;5;124m\"\u001b[39m,\u001b[38;5;124m\"\u001b[39m\u001b[38;5;124m11:1:58::ffff:1\u001b[39m\u001b[38;5;124m\"\u001b[39m],[\u001b[38;5;124m\"\u001b[39m\u001b[38;5;124m2024-09-01T04:05:58.474142158Z\u001b[39m\u001b[38;5;124m\"\u001b[39m,\u001b[38;5;124m\"\u001b[39m\u001b[38;5;124mESTABLISHED\u001b[39m\u001b[38;5;124m\"\u001b[39m,\u001b[38;5;124m\"\u001b[39m\u001b[38;5;124m11:1:57::ffff:1\u001b[39m\u001b[38;5;124m\"\u001b[39m],[\u001b[38;5;124m\"\u001b[39m\u001b[38;5;124m2024-09-01T04:05:58.472558772Z\u001b[39m\u001b[38;5;124m\"\u001b[39m,\u001b[38;5;124m\"\u001b[39m\u001b[38;5;124mESTABLISHED\u001b[39m\u001b[38;5;124m\"\u001b[39m,\u001b[38;5;124m\"\u001b[39m\u001b[38;5;124m11:1:56::ffff:1\u001b[39m\u001b[38;5;124m\"\u001b[39m],[\u001b[38;5;124m\"\u001b[39m\u001b[38;5;124m2024-09-01T04:05:58.471061281Z\u001b[39m\u001b[38;5;124m\"\u001b[39m,null,\u001b[38;5;124m\"\u001b[39m\u001b[38;5;124m11:1:55::ffff:1\u001b[39m\u001b[38;5;124m\"\u001b[39m],[\u001b[38;5;124m\"\u001b[39m\u001b[38;5;124m2024-09-01T04:05:58.308323688Z\u001b[39m\u001b[38;5;124m\"\u001b[39m,\u001b[38;5;124m\"\u001b[39m\u001b[38;5;124mESTABLISHED\u001b[39m\u001b[38;5;124m\"\u001b[39m,null],[\u001b[38;5;124m\"\u001b[39m\u001b[38;5;124m2024-09-01T04:05:58.306320502Z\u001b[39m\u001b[38;5;124m\"\u001b[39m,\u001b[38;5;124m\"\u001b[39m\u001b[38;5;124mESTABLISHED\u001b[39m\u001b[38;5;124m\"\u001b[39m,\u001b[38;5;124m\"\u001b[39m\u001b[38;5;124m11:1:62::ffff:2\u001b[39m\u001b[38;5;124m\"\u001b[39m],[\u001b[38;5;124m\"\u001b[39m\u001b[38;5;124m2024-09-01T04:05:58.303817596Z\u001b[39m\u001b[38;5;124m\"\u001b[39m,\u001b[38;5;124m\"\u001b[39m\u001b[38;5;124mESTABLISHED\u001b[39m\u001b[38;5;124m\"\u001b[39m,\u001b[38;5;124m\"\u001b[39m\u001b[38;5;124m11:1:61::ffff:2\u001b[39m\u001b[38;5;124m\"\u001b[39m]]}]}]}\n\u001b[1;32m      2\u001b[0m \u001b[38;5;28;01mfor\u001b[39;00m x \u001b[38;5;129;01min\u001b[39;00m data:\n\u001b[1;32m      3\u001b[0m     \u001b[38;5;28mprint\u001b[39m(x)\n",
      "\u001b[0;31mNameError\u001b[0m: name 'null' is not defined"
     ]
    }
   ],
   "source": [
    "data={\"results\":[{\"statement_id\":0,\"series\":[{\"name\":\"svla-q5240-08_network-instances_network-instance_protocols_protocol_bgp_neighbors\",\"columns\":[\"time\",\"/network-instances/network-instance/protocols/protocol/bgp/neighbors/neighbor/state/session-state\",\"/network-instances/network-instance/protocols/protocol/bgp/neighbors/neighbor/state/neighbor-address\"],\"values\":[[\"2024-09-01T04:05:58.601429316Z\",\"ESTABLISHED\",\"11:1:64::ffff:2\"],[\"2024-09-01T04:05:58.59989783Z\",null,\"11:1:63::ffff:2\"],[\"2024-09-01T04:05:58.477036992Z\",\"ESTABLISHED\",\"11:1:59::ffff:1\"],[\"2024-09-01T04:05:58.475600781Z\",\"ESTABLISHED\",\"11:1:58::ffff:1\"],[\"2024-09-01T04:05:58.474142158Z\",\"ESTABLISHED\",\"11:1:57::ffff:1\"],[\"2024-09-01T04:05:58.472558772Z\",\"ESTABLISHED\",\"11:1:56::ffff:1\"],[\"2024-09-01T04:05:58.471061281Z\",null,\"11:1:55::ffff:1\"],[\"2024-09-01T04:05:58.308323688Z\",\"ESTABLISHED\",null],[\"2024-09-01T04:05:58.306320502Z\",\"ESTABLISHED\",\"11:1:62::ffff:2\"],[\"2024-09-01T04:05:58.303817596Z\",\"ESTABLISHED\",\"11:1:61::ffff:2\"]]}]}]}\n",
    "for x in data:\n",
    "    print(x)\n",
    "    "
   ]
  },
  {
   "cell_type": "code",
   "execution_count": null,
   "id": "bae4c7d5-1ff0-4f70-8f14-df0cba3392a8",
   "metadata": {},
   "outputs": [],
   "source": []
  }
 ],
 "metadata": {
  "kernelspec": {
   "display_name": "Python 3 (ipykernel)",
   "language": "python",
   "name": "python3"
  },
  "language_info": {
   "codemirror_mode": {
    "name": "ipython",
    "version": 3
   },
   "file_extension": ".py",
   "mimetype": "text/x-python",
   "name": "python",
   "nbconvert_exporter": "python",
   "pygments_lexer": "ipython3",
   "version": "3.9.6"
  }
 },
 "nbformat": 4,
 "nbformat_minor": 5
}
