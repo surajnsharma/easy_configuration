{
 "cells": [
  {
   "cell_type": "code",
   "execution_count": 11,
   "id": "1734bca6-37cf-420d-92cc-92a7318702f5",
   "metadata": {},
   "outputs": [
    {
     "name": "stdin",
     "output_type": "stream",
     "text": [
      "Do you want configurations for 'odd' or 'even' interfaces?  odd\n"
     ]
    },
    {
     "name": "stdout",
     "output_type": "stream",
     "text": [
      "\n",
      "Generated Configuration:\n",
      "set interfaces et-0/0/1 speed 400g number-of-sub-ports 2\n",
      "set interfaces et-0/0/3 speed 400g number-of-sub-ports 2\n",
      "set interfaces et-0/0/5 speed 400g number-of-sub-ports 2\n",
      "set interfaces et-0/0/7 speed 400g number-of-sub-ports 2\n",
      "set interfaces et-0/0/9 speed 400g number-of-sub-ports 2\n",
      "set interfaces et-0/0/11 speed 400g number-of-sub-ports 2\n",
      "set interfaces et-0/0/13 speed 400g number-of-sub-ports 2\n",
      "set interfaces et-0/0/15 speed 400g number-of-sub-ports 2\n",
      "set interfaces et-0/0/17 speed 400g number-of-sub-ports 2\n",
      "set interfaces et-0/0/19 speed 400g number-of-sub-ports 2\n",
      "set interfaces et-0/0/21 speed 400g number-of-sub-ports 2\n",
      "set interfaces et-0/0/23 speed 400g number-of-sub-ports 2\n",
      "set interfaces et-0/0/25 speed 400g number-of-sub-ports 2\n",
      "set interfaces et-0/0/27 speed 400g number-of-sub-ports 2\n",
      "set interfaces et-0/0/29 speed 400g number-of-sub-ports 2\n",
      "set interfaces et-0/0/31 speed 400g number-of-sub-ports 2\n",
      "set interfaces et-0/0/33 speed 400g number-of-sub-ports 2\n",
      "set interfaces et-0/0/35 speed 400g number-of-sub-ports 2\n",
      "set interfaces et-0/0/37 speed 400g number-of-sub-ports 2\n",
      "set interfaces et-0/0/39 speed 400g number-of-sub-ports 2\n",
      "set interfaces et-0/0/41 speed 400g number-of-sub-ports 2\n",
      "set interfaces et-0/0/43 speed 400g number-of-sub-ports 2\n",
      "set interfaces et-0/0/45 speed 400g number-of-sub-ports 2\n",
      "set interfaces et-0/0/47 speed 400g number-of-sub-ports 2\n",
      "set interfaces et-0/0/49 speed 400g number-of-sub-ports 2\n",
      "set interfaces et-0/0/51 speed 400g number-of-sub-ports 2\n",
      "set interfaces et-0/0/53 speed 400g number-of-sub-ports 2\n",
      "set interfaces et-0/0/55 speed 400g number-of-sub-ports 2\n",
      "set interfaces et-0/0/57 speed 400g number-of-sub-ports 2\n",
      "set interfaces et-0/0/59 speed 400g number-of-sub-ports 2\n",
      "set interfaces et-0/0/61 speed 400g number-of-sub-ports 2\n",
      "set interfaces et-0/0/63 speed 400g number-of-sub-ports 2\n"
     ]
    }
   ],
   "source": [
    "def generate_interface_config(interface_type):\n",
    "    \"\"\"\n",
    "    Generates interface configuration based on the user's choice of odd or even interfaces.\n",
    "    \n",
    "    Parameters:\n",
    "        interface_type (str): 'odd' or 'even' specifying the type of interfaces.\n",
    "    \n",
    "    Returns:\n",
    "        list: Configuration commands for the selected interface type.\n",
    "    \"\"\"\n",
    "    config_lines = []\n",
    "    for i in range(64):  # Assuming interfaces range from 0 to 31\n",
    "        if interface_type == \"even\" and i % 2 == 0:  # Even interface\n",
    "            config_lines.append(f\"set interfaces et-0/0/{i} speed 100g number-of-sub-ports 8\")\n",
    "        elif interface_type == \"odd\" and i % 2 != 0:  # Odd interface\n",
    "            config_lines.append(f\"set interfaces et-0/0/{i} speed 400g number-of-sub-ports 2\")\n",
    "    return config_lines\n",
    "\n",
    "if __name__ == \"__main__\":\n",
    "    # Prompt the user for input\n",
    "    user_choice = input(\"Do you want configurations for 'odd' or 'even' interfaces? \").strip().lower()\n",
    "    \n",
    "    # Validate user input\n",
    "    if user_choice not in [\"odd\", \"even\"]:\n",
    "        print(\"Invalid input. Please enter 'odd' or 'even'.\")\n",
    "    else:\n",
    "        # Generate and display the configuration\n",
    "        config = generate_interface_config(user_choice)\n",
    "        print(\"\\nGenerated Configuration:\")\n",
    "        for line in config:\n",
    "            print(line)\n"
   ]
  },
  {
   "cell_type": "code",
   "execution_count": null,
   "id": "3e5c0393-9792-4b2c-964d-7c2748c3191c",
   "metadata": {},
   "outputs": [],
   "source": []
  }
 ],
 "metadata": {
  "kernelspec": {
   "display_name": "Python 3 (ipykernel)",
   "language": "python",
   "name": "python3"
  },
  "language_info": {
   "codemirror_mode": {
    "name": "ipython",
    "version": 3
   },
   "file_extension": ".py",
   "mimetype": "text/x-python",
   "name": "python",
   "nbconvert_exporter": "python",
   "pygments_lexer": "ipython3",
   "version": "3.9.6"
  }
 },
 "nbformat": 4,
 "nbformat_minor": 5
}
