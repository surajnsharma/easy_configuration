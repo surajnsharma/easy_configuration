{
 "cells": [
  {
   "cell_type": "code",
   "execution_count": 2,
   "id": "cad1bd92-2000-4487-866b-5d8bb1e87d64",
   "metadata": {
    "scrolled": true
   },
   "outputs": [
    {
     "name": "stdout",
     "output_type": "stream",
     "text": [
      "✅ Connected to svla-q5120-05.englab.juniper.net\n",
      "🔄 Running Storage Cleanup on svla-q5120-05.englab.juniper.net... (Attempt 1/3)\n",
      "✅ Storage Cleanup Completed on svla-q5120-05.englab.juniper.net: None\n"
     ]
    },
    {
     "data": {
      "text/plain": [
       "True"
      ]
     },
     "execution_count": 2,
     "metadata": {},
     "output_type": "execute_result"
    }
   ],
   "source": [
    "from jnpr.junos import Device\n",
    "from jnpr.junos.exception import RpcError, ConnectError\n",
    "from paramiko.ssh_exception import SSHException\n",
    "\n",
    "# Device details\n",
    "hostname = \"svla-q5120-05.englab.juniper.net\"\n",
    "username = \"root\"\n",
    "password = \"Embe1mpls\"\n",
    "port = 22\n",
    "\n",
    "# Establish Connection\n",
    "try:\n",
    "    dev = Device(host=hostname, user=username, passwd=password, port=port)\n",
    "    dev.open()\n",
    "    print(f\"✅ Connected to {hostname}\")\n",
    "except ConnectError as e:\n",
    "    print(f\"❌ Connection failed to {hostname}: {str(e)}\")\n",
    "    exit(1)\n",
    "\n",
    "\n",
    "def attempt_storage_cleanup(dev, device_id, is_evo_image=False, retries=3):\n",
    "    \"\"\"\n",
    "    Attempts to free up storage on the device by executing the RPC command.\n",
    "    If the image is EVO, it performs an additional archive cleanup.\n",
    "    Retries if the cleanup fails.\n",
    "    \"\"\"\n",
    "    attempt = 0\n",
    "    while attempt < retries:\n",
    "        try:\n",
    "            print(f\"🔄 Running Storage Cleanup on {device_id}... (Attempt {attempt + 1}/{retries})\")\n",
    "            \n",
    "            # Run storage cleanup\n",
    "            response = dev.rpc.request_system_storage_cleanup(no_confirm=True)\n",
    "\n",
    "            # Check response type\n",
    "            response_text = response.text if hasattr(response, 'text') else str(response)\n",
    "            print(f\"✅ Storage Cleanup Completed on {device_id}: {response_text}\")\n",
    "\n",
    "            # 🔹 If EVO image, perform additional cleanup\n",
    "            if is_evo_image:\n",
    "                print(f\"🔄 Running EVO Package Cleanup on {device_id}...\")\n",
    "                response_evo = dev.rpc.request_package_delete(archived=True)\n",
    "                response_evo_text = response_evo.text if hasattr(response_evo, 'text') else str(response_evo)\n",
    "                print(f\"✅ EVO Package Cleanup Completed on {device_id}: {response_evo_text}\")\n",
    "\n",
    "            return True  # Success\n",
    "\n",
    "        except RpcError as e:\n",
    "            print(f\"❌ RPC Error during storage cleanup on {device_id}: {str(e)}\")\n",
    "        except ConnectError as e:\n",
    "            print(f\"❌ Connection Error during storage cleanup on {device_id}: {str(e)}\")\n",
    "        except SSHException as e:\n",
    "            print(f\"❌ SSH Error during storage cleanup on {device_id}: {str(e)}\")\n",
    "        except Exception as e:\n",
    "            print(f\"❌ Unexpected error during storage cleanup on {device_id}: {str(e)}\")\n",
    "\n",
    "        attempt += 1\n",
    "        print(f\"🔁 Retrying storage cleanup in 30 seconds...\")\n",
    "        time.sleep(30)  # Wait before retrying\n",
    "\n",
    "    print(f\"🚨 Storage cleanup failed on {device_id} after {retries} attempts.\")\n",
    "    return False  # Return False if cleanup fails\n",
    "\n",
    "\n",
    "# Run Storage Cleanup\n",
    "attempt_storage_cleanup(dev, hostname, is_evo_image=False)\n"
   ]
  },
  {
   "cell_type": "code",
   "execution_count": null,
   "id": "1fb2fbcf-1d9a-49e9-871a-075fb979ea81",
   "metadata": {},
   "outputs": [],
   "source": []
  }
 ],
 "metadata": {
  "kernelspec": {
   "display_name": "Python 3 (ipykernel)",
   "language": "python",
   "name": "python3"
  },
  "language_info": {
   "codemirror_mode": {
    "name": "ipython",
    "version": 3
   },
   "file_extension": ".py",
   "mimetype": "text/x-python",
   "name": "python",
   "nbconvert_exporter": "python",
   "pygments_lexer": "ipython3",
   "version": "3.11.11"
  }
 },
 "nbformat": 4,
 "nbformat_minor": 5
}
