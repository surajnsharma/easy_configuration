{
 "cells": [
  {
   "cell_type": "code",
   "execution_count": 22,
   "id": "73ceedf6-d913-42d6-bbcc-33eaec50255f",
   "metadata": {},
   "outputs": [
    {
     "name": "stderr",
     "output_type": "stream",
     "text": [
      "2025-02-20 23:24:15 - INFO - 🔄 Running Storage Cleanup on svla-q5240-03.englab.juniper.net...\n",
      "2025-02-20 23:24:15 - INFO - [host svla-q5240-03.englab.juniper.net session-id 27528] Requesting 'ExecuteRpc'\n",
      "2025-02-20 23:24:15 - INFO - [host svla-q5240-03.englab.juniper.net session-id 27528] Sending:\n",
      "b'<?xml version=\"1.0\" encoding=\"UTF-8\"?><nc:rpc xmlns:nc=\"urn:ietf:params:xml:ns:netconf:base:1.0\" message-id=\"urn:uuid:c021d449-d8f1-4c05-a044-5cac537fca50\"><request-system-storage-cleanup><no-confirm/></request-system-storage-cleanup></nc:rpc>]]>]]>'\n",
      "2025-02-20 23:24:25 - INFO - [host svla-q5240-03.englab.juniper.net session-id 27528] Received message from host\n",
      "2025-02-20 23:24:25 - INFO - ✅ Storage Cleanup Output on svla-q5240-03.englab.juniper.net: None\n"
     ]
    },
    {
     "data": {
      "text/plain": [
       "True"
      ]
     },
     "execution_count": 22,
     "metadata": {},
     "output_type": "execute_result"
    }
   ],
   "source": [
    "import logging\n",
    "from jnpr.junos import Device\n",
    "from jnpr.junos.exception import RpcError, ConnectError\n",
    "from paramiko.ssh_exception import SSHException\n",
    "\n",
    "# Configure logging\n",
    "logging.basicConfig(\n",
    "    level=logging.INFO,\n",
    "    format='%(asctime)s - %(levelname)s - %(message)s',\n",
    "    datefmt='%Y-%m-%d %H:%M:%S'\n",
    ")\n",
    "\n",
    "def attempt_storage_cleanup(dev, device_id, is_evo_image=False):\n",
    "    \"\"\"\n",
    "    Attempts to free up storage on the device by executing the RPC command.\n",
    "    If the image is EVO, it performs an additional archive cleanup and deletes other installed versions.\n",
    "    \"\"\"\n",
    "    try:\n",
    "        logging.info(f\"🔄 Running Storage Cleanup on {device_id}...\")\n",
    "\n",
    "        # Run storage cleanup\n",
    "        response = dev.rpc.request_system_storage_cleanup(no_confirm=True)\n",
    "\n",
    "        # Handle `None` response\n",
    "        if response is None:\n",
    "            logging.info(f\"✅ Storage Cleanup Completed on {device_id}. (No output received, assuming success)\")\n",
    "        else:\n",
    "            response_text = response.text if hasattr(response, 'text') else str(response)\n",
    "            logging.info(f\"✅ Storage Cleanup Output on {device_id}: {response_text}\")\n",
    "\n",
    "        # 🔹 If EVO image, perform additional cleanup\n",
    "        if is_evo_image:\n",
    "            logging.info(f\"🔄 Running EVO Package Cleanup on {device_id}...\")\n",
    "\n",
    "            # Step 1: Delete all archived packages\n",
    "            try:\n",
    "                response_evo = dev.rpc.request_package_delete(archived=True)\n",
    "                response_evo_text = response_evo.text if hasattr(response_evo, 'text') else str(response_evo)\n",
    "                logging.info(f\"✅ EVO Package Cleanup Completed on {device_id}: {response_evo_text}\")\n",
    "            except RpcError as e:\n",
    "                logging.error(f\"❌ Failed to delete archived EVO packages on {device_id}: {str(e)}\")\n",
    "\n",
    "            # Step 2: Delete other installed versions\n",
    "            logging.info(f\"🔍 Fetching system software list on {device_id}...\")\n",
    "            software_info = dev.rpc.get_software_information()\n",
    "\n",
    "            if software_info is None:\n",
    "                logging.info(f\"✅ No additional `other-versions` found on {device_id}, skipping additional cleanup.\")\n",
    "                return True\n",
    "\n",
    "            # Extract other versions\n",
    "            other_versions = software_info.xpath(\"//other-versions\")\n",
    "            if not other_versions:\n",
    "                logging.info(f\"✅ No `other-versions` found on {device_id}, skipping cleanup.\")\n",
    "                return True\n",
    "\n",
    "            other_versions_list = [version.text for version in other_versions]\n",
    "            logging.info(f\"📌 Found {len(other_versions_list)} `other-versions` to delete on {device_id}.\")\n",
    "\n",
    "            # Loop through and delete each version\n",
    "            for version in other_versions_list:\n",
    "                try:\n",
    "                    logging.info(f\"🔄 Deleting package: {version} on {device_id}...\")\n",
    "                    dev.rpc.request_package_delete(package_name=version)\n",
    "                    logging.info(f\"✅ Successfully deleted {version} from {device_id}.\")\n",
    "                except RpcError as e:\n",
    "                    logging.error(f\"❌ Failed to delete {version} on {device_id}: {str(e)}\")\n",
    "\n",
    "        return True  # Success\n",
    "\n",
    "    except RpcError as e:\n",
    "        logging.error(f\"❌ RPC Error during storage cleanup on {device_id}: {str(e)}\")\n",
    "    except ConnectError as e:\n",
    "        logging.error(f\"❌ Connection Error during storage cleanup on {device_id}: {str(e)}\")\n",
    "    except SSHException as e:\n",
    "        logging.error(f\"❌ SSH Error during storage cleanup on {device_id}: {str(e)}\")\n",
    "    except Exception as e:\n",
    "        logging.error(f\"❌ Unexpected error during storage cleanup on {device_id}: {str(e)}\")\n",
    "\n",
    "    logging.error(f\"🚨 Storage cleanup failed on {device_id}.\")\n",
    "    return False  # Return False if cleanup fails\n",
    "# Run Storage Cleanup\n",
    "attempt_storage_cleanup(dev, hostname, is_evo_image=False)"
   ]
  },
  {
   "cell_type": "code",
   "execution_count": null,
   "id": "b5135961-b9ed-4cb8-9453-12fafe0abd99",
   "metadata": {},
   "outputs": [],
   "source": []
  }
 ],
 "metadata": {
  "kernelspec": {
   "display_name": "Python 3 (ipykernel)",
   "language": "python",
   "name": "python3"
  },
  "language_info": {
   "codemirror_mode": {
    "name": "ipython",
    "version": 3
   },
   "file_extension": ".py",
   "mimetype": "text/x-python",
   "name": "python",
   "nbconvert_exporter": "python",
   "pygments_lexer": "ipython3",
   "version": "3.11.11"
  }
 },
 "nbformat": 4,
 "nbformat_minor": 5
}
